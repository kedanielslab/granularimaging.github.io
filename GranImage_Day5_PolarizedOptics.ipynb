{
 "cells": [
  {
   "cell_type": "markdown",
   "metadata": {
    "id": "x-E83WuIC90O"
   },
   "source": [
    "##### Imaging Methods in Granular & Complex Fluids\n",
    "# Day 5: Introduction to Polarized Optics\n",
    "\n",
    "Karen Daniels, Distinguished Professor of Physics, NC State University kdaniel@ncsu.edu\n",
    "\n",
    "Visiting Fulbright-Nehru Scholar, IISc Civil Engineering, September 2023 to January 2024\n",
    "\n",
    "## Learning objectives\n",
    "\n",
    "* Explain how the wave model of light requires a notion of polarization\n",
    "* Demonstrate how to make and analyze both linear and circularly polarized light\n",
    "* Explain how photoelasticity changes the polarization of light in response to stress\n",
    "* Demonstrate how to make and use a brightfield or darkfield polariscope\n",
    "* Calculate a semi-empirical measure of the force on a polymer grain using the $G^2$ method\n"
   ]
  },
  {
   "cell_type": "markdown",
   "metadata": {
    "id": "g3Jnez6hC90R"
   },
   "source": [
    "# Pre-class\n",
    "\n",
    "* *Optics background:* If it’s been a while since you’ve looked at wave optics, [OpenStax Ch 27](https://openstax.org/books/college-physics-2e/pages/27-introduction-to-wave-optics) has a quick review at the first year undergraduate level\n",
    "* *Pre-class reading:* Utter, B. (2010). Chapter 9: Photoelastic materials. In J. S. Olafsen (Ed.), Experimental and Computational Techniques in Soft Condensed Matter Physics. Cambridge University Press. [available on Zotero](https://www.zotero.org/groups/5274108/granularimaging)\n",
    "* *Bring:* smartphone/tablet + laptop + (if you can) any polarizers you might have around: a pair of polarized sunglasses or 3D movie glasses or a screw-on polarizing filter for a camera \n",
    "* From Google Drive, click the \"Download\" icon to save a copy of the whole \"Day5\" folder to your own computer.\n"
   ]
  },
  {
   "cell_type": "markdown",
   "metadata": {
    "id": "8DJpywvGD_Ag"
   },
   "source": [
    "# In-Class\n",
    "\n",
    "## Light is an electromagnetic wave\n",
    "\n",
    "Light travels at a constant speed of light $c = \\lambda f = 3 \\times 10^8$ m/s in a vaccum, no matter the frequency $f$ or wavelength $\\lambda$. Visible light has a wavelength of 400 nm (violet) to 700 nm (red), with white light being a mixture of these wavelengths. Outside of a vaccum, the speed of light is slower, and for complex materials the speed can be different along different axes of the material. We will capitalize on these effects to use light as a probe for the internal state of the material.\n",
    "\n",
    "The light wave takes the form of simultaneous, perpendicular oscillations in both the electric field $\\vec E$ and magnetic field $\\vec B$, with the direction of propagation $\\vec v$ being mutually perpendicular as well, according to the right hand rule. These waves are all traveling-wave solutions to Maxwell's equations, and are show schematically below. By convention, the direction of polarization is given by the direction of the oscillations in the $\\vec E$ field. \n",
    "\n",
    "![two sinusoidal waves, in phase, perpendicular to each other](https://openstax.org/apps/image-cdn/v1/f=webp/apps/archive/20230828.164620/resources/9ef745ae5a2dd0c7a30d1d8b23688efeb03d02d5 \"Source: OpenStax Physics\")\n",
    "\n",
    "\n",
    "\n",
    "## What is a polarizing filter?\n",
    "\n",
    "Polarizing filters, including sunglasses and some 3D movie glasses, are usually made from iodine-impregnated polyvinyl alcohol, with the polymer chains preferentially-aligned along one axis. The iodine atoms (via their $\\pi-\\pi$ bonds) provide conduction electrons *along* the polymer chains, but are much less conductive in the perpendicular direction. \n",
    "\n",
    "Therefore, polarizing filters absorb 99% of the light along the chains (the electrons in the filter move to largely cancel the $\\vec E$ field, preventing transmission), and they transmit 80% of the light perpendicular to the chains. As such light viewed through a polarizing filter is both attenuated (dimmer) and polarized. This is shown schematically below.\n",
    "\n",
    "![a light wave decays significantly going through the polarizing axis of a polarizer, but is only slightly attenuated in the perpendicular direction](http://hyperphysics.phy-astr.gsu.edu/hbase/phyopt/imgpho/Dichro.gif \"Source: HyperPhysics\")\n",
    "\n",
    "**Question:** Given this information, what do you think all of the arrows mean on the figure above? Why do you think they are they are drawn as double-headed arrows rather than single-headed? "
   ]
  },
  {
   "cell_type": "markdown",
   "metadata": {},
   "source": [
    "*your notes here ...*"
   ]
  },
  {
   "cell_type": "markdown",
   "metadata": {
    "id": "8DJpywvGD_Ag"
   },
   "source": [
    "## Examining polarized light\n",
    "\n",
    "Some teminology:\n",
    "* *Unpolarized light* is a mixture of light with many different polarizations\n",
    "* *Linearly polarized light* has a consistent polarization along a particular axis\n",
    "* *Monochromatic light* is composed of a single wavelength of light\n",
    "* *White light* is composed of many wavelengths of light\n",
    "\n",
    "Using the various polarizing filters available, see if you can tell whether each of the following sources are unpolarized or at least partially polarized.\n",
    "\n",
    "* light from a lightbulb: ???\n",
    "* light from bright sky: ???\n",
    "* light reflected from a piece of shiny metal: ???\n",
    "* light reflected from water: ???\n",
    "* light from your laptop: ???\n",
    "* light from your cellphone/tablet: ???\n",
    "* light from the projector screen: ???\n",
    "* .. what other sources do you have on hand?\n",
    "\n",
    "What are some ways you can think of, to generate a monochromatic, linearly polarized light source for use in experiments?"
   ]
  },
  {
   "cell_type": "markdown",
   "metadata": {},
   "source": [
    "*your notes here ...*"
   ]
  },
  {
   "cell_type": "markdown",
   "metadata": {},
   "source": [
    "Note about reflections: When light hits a material, the atoms first absorb the light, then re-radiate it. The elecrons insite the atoms are vibrating, and these produce light waves that radiate outward from the material (which are then what we see). This means that the direction of the $\\vec E$ field must be perpendicular to that direction of propagation. "
   ]
  },
  {
   "cell_type": "markdown",
   "metadata": {
    "id": "8DJpywvGD_Ag"
   },
   "source": [
    "## Making circularly polarized light\n",
    "\n",
    "If your experiment (either the material, or the stresses on that material) are anisotropic, then linearly polarized light will interact differently depending on the relative orientation of the sample and the light axes. To avoid, this, many optical measurement techniques instead use circularly polarized light: its polarization vector rotates continuously as the light propagates. \n",
    "\n",
    "**Here is what that looks like:** https://https://youtu.be/Fu-aYnRkUgg\n",
    "\n",
    "Note that the direction of rotation can be either left-handed (left circularly polarized, LCP) or right-handed (right circularly polarized, RCP). If your thumb points in the direction of propagation, the naming convention follows the direction the $\\vec E$ field, which rotates in the direction your fingers curl.\n",
    "\n",
    "![schematic showing that the E and B fields are out of phase in cicularly polarized light](http://hyperphysics.phy-astr.gsu.edu/hbase/phyopt/imgpho/polcir.png \"Source:HyperPhysics\")\n",
    "\n",
    "To create circularly polarized light, you first create linearly polarized (LP) light, and then retard the phase of the $\\vec E$ field wave using a quarter-wave plate (QWP); this creates circularly polarized light, for which the $\\vec E$ and $\\vec B$ fields are $90^\\circ$ degrees out of phase with each other. \n",
    "\n",
    "![schematic showing linearly polarized light becoming circularly polarized, due to a quarter wave plate](http://hyperphysics.phy-astr.gsu.edu/hbase/phyopt/imgpho/lcpol.png \"Source:HyperPhysics\")\n",
    "\n",
    "\n",
    "A quarter-wave plate is made of a material that has a fast axis and slow axis, so that waves that are polarized in different orientations travel through with different speeds. Note that the linear polarizer must be placed at a $\\pm 45^\\circ$ angle with respect to the fast/slow axes, and the $\\pm$ choice sets whether you obtain LCP or RCP light. Why does this work? the vector component of the $\\vec E$ field that is parallel to the slow axes gets retarded relative to the perpendicular component, setting the stage for $\\vec E_{||}$ and $\\vec E_\\perp$ to oscillate $90^\\circ$ out of phase with each other: uniform circular motion.\n",
    "\n",
    "\n",
    "\n",
    "When you buy a circularly polarizer from a camera store, the LP and QWP layers have been bonded together so that you don't need to worry about their relative orientation, just which side of the sandwich is the LP and which side is the QWP.\n",
    "\n",
    "\n",
    "*Side note: a quarter-wave plate is so-named beucase 1/4 of a wave is $90^\\circ$ of phase. You can also use a variable phase-retarder to generate elliptically-polarized light with an arbitrary phase shit, or a wave-plate with a different amount of fixed phase shift, but that's getting off-topic.*"
   ]
  },
  {
   "cell_type": "markdown",
   "metadata": {},
   "source": [
    "## Experiments with circular and linear polarizers\n",
    "\n",
    "Try each of the following experiments with the linear polarizers and circular polarizers, and be ready to share how you figured it out.\n",
    "\n",
    "* identify which side of the LCP or RCP has the quarter-wave plate\n",
    "* is there a way to use CP as linear polarizers? the other way around? \n",
    "* what happens when you look through two polarizers, depending on their relative orientation?"
   ]
  },
  {
   "cell_type": "markdown",
   "metadata": {},
   "source": [
    "*space for notes ...*"
   ]
  },
  {
   "cell_type": "markdown",
   "metadata": {},
   "source": [
    "## Birefringence and photoelasticity\n",
    "\n",
    "**Birefringent materials:** have a fast and a slow axis, and the speed of light depends on which axis matches the direction of the light's polarization. Many crystals have this property, via alignment with specific crystllagraphic axes. \n",
    "\n",
    "![schematic of two light rays going through different paths in a calcite crystal, depending on their polarization](http://hyperphysics.phy-astr.gsu.edu/hbase/phyopt/imgpho/nicol.png \"Source: HyperPhysics\")\n",
    "\n",
    "![a red-ish mineral that shows two different images of the same mark on the back of the crystal, one for each polarization transmitted](figs/Raman-birefringent.jpg \"Source: by KED, taken at Raman Research Institute from CV Raman's private collection\")\n",
    "\n",
    "**Photoeleastic materials:** the amount of birefringence at each point in the material depends on the local stress, for example many polymers and glasses. Some also have significant underlying birefringence, which is less convient for measuring stresses. \n",
    "\n",
    "## Polariscopes\n",
    "\n",
    "Under stress, a birefringent material will rotate the polarization of light, and this allows the light to have vector component that can pass through the second"
   ]
  },
  {
   "cell_type": "markdown",
   "metadata": {},
   "source": [
    "## A first polariscope\n",
    "\n",
    "**Demo:** if you build this setup to use photoelasticity to visualize the stresses on a single grain, do you get a brightfield or a darkfield polariscope?\n",
    "\n",
    "![optical setup from left to right: camera, horizontal linear polarizer, disk, vertical linear polarizer, light source](figs/fig4a-linearpolariscope.png \"Source: Daniels, Puckett, & Kollmer (2017)\")\n",
    "\n",
    "Problem: there are *two* different reasons for the fringes we observe:\n",
    "* Photoelastic response of the disk rotates the polarization to match/mismatch the analyzer.\n",
    "* If the principal stress is aligned with the polarizers, it will not be affected by the photoelastic response of the material.\n",
    "\n",
    "Therefore, the fringe pattern depends on both the relative angle between the polarizer (fixed) and the principal stress (changes at different locations, times during experiment). Therefore, we will work instead with polariscopes that use circularly polarized light. \n",
    "\n",
    "**Demo:** observe how pairs of LCP and RCP filters interact under various orientations"
   ]
  },
  {
   "cell_type": "markdown",
   "metadata": {},
   "source": [
    "## Making and Understanding a Polariscope\n",
    "\n",
    "### Equipment needed per group of 3 or 4\n",
    "* pair of LCP/RCP filters\n",
    "* one photoelastic particle\n",
    "* one lightsource (cellphone/tablet/laptop, showing images from `lightbox-images` directory)\n",
    "* one camera: use cellphone/tablet\n",
    "\n",
    "### Step 1: Orienting circular polarizers\n",
    "\n",
    "* Make the following darkfield setup\n",
    "* Check that you understand by rotating/flipping the polarizers into various possible orientations\n",
    "* When it's working, rotating the polarizers around the z-axis will only slightly change the output\n",
    "\n",
    "![optical setup from left to right: camera, left circular polarizer, right linear polarizer, light source](figs/fig4b0-circularpolariscope.png \"Source: Daniels, Puckett, & Kollmer (2017)\")\n",
    "\n",
    "\n",
    "### Step 2: One-grain polariscope\n",
    "\n",
    "* Next, add a photoelastic particle and observe the fringes as a function of contact force\n",
    "* Can you switch this to being a brightfield setup?\n",
    "* Does the RCP/LCP order matter?\n",
    "* What goes wrong if you have one of the CP filters placed backwards?\n",
    "* Try out your sunglasses?\n",
    "\n",
    "![optical setup from left to right: camera, left circular polarizer, disk. right linear polarizer, light source](figs/fig4b-circularpolariscope.png \"Source: Daniels, Puckett, & Kollmer (2017)\")\n",
    "\n",
    "### Step 3: Collect data\n",
    "\n",
    "* Collect one picture with nice fringees using white light. \n",
    "* Using monochromatic green light, collect a series of 3-5 photos, starting from very little force, up to more force. Try to keep them all photos about the same size.\n",
    "* Crop each photo so that it just covers the circle of the disk, and not much else. \n",
    "* Save this images in this directory, as `image1.jpg`, `image2.jpg`, etc. so that we can process them below.\n",
    "\n",
    "If you have time, switch to using your LCP/RCP as linear polarizers (by having the QWP face away from the particle). This will let you see how diametric loading looks different depending on whether the forces are oriented along the LP axes, vs. at a $45^\\circ$ angle.\n"
   ]
  },
  {
   "cell_type": "markdown",
   "metadata": {},
   "source": [
    "## Why do we see fringes?\n",
    "\n",
    "* LCP light passes through a photoelastic material\n",
    "* the amount of birefringence at each point in the material depends on the local stress\n",
    "* the phase of the $\\vec E$ field along the slow axis gets retarded by some amount $\\phi$\n",
    "* some of this light is retarded by enough to become RCP instead of LCP; this light now passes through the RCP filter $\\to$ light fringe\n",
    "* some light is retarded far enough that first becomes RCP, and then once again LCP; this light cannot pass through the RCP filter $\\to$ dark fringe\n",
    "* some light is intermediately retarded, and is partially transmitted $\\to$ gray\n",
    "\n",
    "## Semi-quantitative measurements of interparticle forces\n",
    "\n",
    "When physicists and engineers originally started using photoelasticity to examine the internal forces within granular materials, they did so qualitatively (as we have done so far). Namely, that the center of the particle first grows brighter under an external load, and eventually develops fringe patterns. These stripes arise because some regions of the particle rotated the polarization of the light but even more needed to be detected as bright stripes via the analyzer. \n",
    "\n",
    "To quantify how the number of dark/light fringes increases with the stress on each particle, Behringer and coworkers -- working in the late 1990s -- empirically calculated the squared local gradient, averaged over all pixels $(i,j)$ in an image. \n",
    "\n",
    "$\\require{color}$\n",
    "\n",
    "$$ \\langle G^2 \\rangle = \\sum_{i,j} \\Bigl[\n",
    "\\color{green}{(I_{i+1,j} - I_{i-1,j})^2} + \n",
    "\\color{green}{(I_{i,j+1} - I_{i,j-1})^2} + \n",
    "\\color{magenta}{\\frac{1}{2} (I_{i+1,j+1} - I_{i-1,j-1})^2} + \n",
    "\\color{magenta}{\\frac{1}{2} (I_{i+1,j-1} - I_{i-1,j+1})^2}\n",
    "\\color{black}{\\Bigr]} $$ \n",
    "\n",
    "\n",
    "\n",
    " ![Left: image of a disk under stress, viewed through a darkfield polariscope, with schematic of the coordinates of the pixels used to calculate gradients. Right: graph of measured G-squared vs. force, showing an increasing, monotonic relationship](figs/fig5-Gsquared.png \"Source: Daniels, Puckett, & Kollmer (2017); Howell, Veje, & Behringer (1999)\")\n",
    "\n",
    "Empirically, this quantity provides an empirical measure of the 2D stress on the system,  and can also be used on single particles. Even with the more quantitative methods that have since been developed, the $G^2$ method (as it has come to be called) remains in use for a few reasons:\n",
    "\n",
    "* easy to use, doesn't require particle-tracking\n",
    "* computationally fast\n",
    "* works on low-resolution images (10 pixels/particle is enough for a crude measure)\n",
    "\n",
    "The last two items make this method particularly popular with high-speed camera images. \n",
    "\n",
    "To obtain a calibrated measurement, it's possible to measure $G^2$ for particles under known pressure, obtained under the same lighting conditions as the intended experiment. "
   ]
  },
  {
   "cell_type": "markdown",
   "metadata": {},
   "source": [
    "## Calculating $G^2$"
   ]
  },
  {
   "cell_type": "code",
   "execution_count": 2,
   "metadata": {},
   "outputs": [],
   "source": [
    "import numpy as np              # for scientific calculations\n",
    "import matplotlib.pyplot as plt # for plotting\n",
    "import skimage                  # for image-processing\n",
    "import imageio                  # for reading/writing images\n",
    "\n",
    "from skimage.util import img_as_ubyte\n",
    "from scipy import ndimage\n",
    "from skimage.feature import peak_local_max\n",
    "\n",
    "# if you like interactive plots, run these\n",
    "# otherwise don't\n",
    "\n",
    "#%matplotlib notebook\n",
    "#plt.ion()"
   ]
  },
  {
   "cell_type": "code",
   "execution_count": 3,
   "metadata": {},
   "outputs": [],
   "source": [
    "def Gsquared(im): \n",
    "    G2 = 0 \n",
    "    Lx = im.shape[0]\n",
    "    Ly = im.shape[1]\n",
    "    for i in np.arange(1,Lx-1):\n",
    "        for j in np.arange(1,Ly-1):\n",
    "              G2 += (im[i+1,j] - im[i-1,j])**2\n",
    "              G2 += (im[i,j+1] - im[i,j-1])**2\n",
    "              G2 += 0.5 * (im[i+1,j+1] - im[i-1,j-1])**2\n",
    "              G2 += 0.5 * (im[i+1,j-1] - im[i-1,j+1])**2\n",
    "    return(G2 / ((Lx-2)*(Ly-2)))"
   ]
  },
  {
   "cell_type": "code",
   "execution_count": 5,
   "metadata": {},
   "outputs": [
    {
     "data": {
      "image/png": "[encoded data removed]",
      "text/plain": [
       "<Figure size 800x400 with 2 Axes>"
      ]
     },
     "metadata": {},
     "output_type": "display_data"
    }
   ],
   "source": [
    "img = skimage.io.imread('figs/fig2-modern.jpg')\n",
    "image = img_as_ubyte(img).astype(float)\n",
    "#plt.imshow(image, cmap='gray')\n",
    "\n",
    "loP = image[0:49, 75:124]\n",
    "hiP = image[60:109,125:174]\n",
    "\n",
    "f, (ax0, ax1) = plt.subplots(1, 2, figsize=(8,4))\n",
    "ax0.imshow(loP, cmap = 'gray')\n",
    "ax0.set_title('$G^2$ = '+str(Gsquared(loP)))\n",
    "ax1.imshow(hiP, cmap = 'gray')\n",
    "ax1.set_title('$G^2$ = '+str(Gsquared(hiP)))\n",
    "plt.show()    "
   ]
  },
  {
   "cell_type": "code",
   "execution_count": null,
   "metadata": {},
   "outputs": [],
   "source": [
    "#load your images\n",
    "for n in np.arange(5) # change this to match how you saved your images\n",
    "    img = skimage.io.imread('image'+str(n)+'jpg')\n",
    "    image = img_as_ubyte(img[:,:,2]).astype(float)\n",
    "    \n",
    "    #... add code to analyze your own images\n",
    "    "
   ]
  },
  {
   "cell_type": "markdown",
   "metadata": {},
   "source": []
  },
  {
   "cell_type": "markdown",
   "metadata": {
    "id": "2nKDvjATD_Ao"
   },
   "source": [
    "# Post-class\n",
    "\n",
    "## Every week\n",
    "\n",
    "If you and your group worked together on a single notebook, don't forget to email each other a copy of the final version.\n",
    "\n",
    "Please feel free to complete any parts you didn't finish, and ask questions at the start of the next class."
   ]
  },
  {
   "cell_type": "markdown",
   "metadata": {},
   "source": [
    "## Additional resources\n",
    "\n",
    "Join this [Zotero Library](https://www.zotero.org/groups/5274108/granularimaging) in order to get access to all course readings (PDFs and web pages) in one place without needing library access.\n",
    "\n",
    "* Ramesh, K. (2021) Developments in Photoelasticity: A renaissance. IOP Publishing. https://iopscience.iop.org/book/978-0-7503-2472-4 \n",
    "* Abed Zadeh, Aghil, Jonathan Bares, Theodore A. Brzinski, Karen E. Daniels, Joshua Dijksman, Nicolas Docquier, Henry O. Everitt. (2019) “Enlightening Force Chains: A Review of Photoelasticimetry in Granular Matter.” Granular Matter 21 (4): 83. https://doi.org/10.1007/s10035-019-0942-2.\n",
    "* Daniels, Karen E., Jonathan E. Kollmer, and James G. Puckett. (2017) “Photoelastic Force Measurements in Granular Materials.” Review of Scientific Instruments 88 (5): 051808. https://doi.org/10.1063/1.4983049.\n",
    "\n",
    "\n"
   ]
  },
  {
   "cell_type": "code",
   "execution_count": null,
   "metadata": {},
   "outputs": [],
   "source": []
  }
 ],
 "metadata": {
  "colab": {
   "provenance": [],
   "toc_visible": true
  },
  "kernelspec": {
   "display_name": "Python 3 (ipykernel)",
   "language": "python",
   "name": "python3"
  },
  "language_info": {
   "codemirror_mode": {
    "name": "ipython",
    "version": 3
   },
   "file_extension": ".py",
   "mimetype": "text/x-python",
   "name": "python",
   "nbconvert_exporter": "python",
   "pygments_lexer": "ipython3",
   "version": "3.9.18"
  }
 },
 "nbformat": 4,
 "nbformat_minor": 1
}

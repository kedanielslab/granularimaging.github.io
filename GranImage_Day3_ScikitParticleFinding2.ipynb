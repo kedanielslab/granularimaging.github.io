{
 "cells": [
  {
   "cell_type": "markdown",
   "metadata": {
    "id": "x-E83WuIC90O"
   },
   "source": [
    "# Imaging Methods in Granular & Complex Fluids\n",
    "# Day 3: Particle finding 2\n",
    "\n",
    "Karen Daniels, Distinguished Professor of Physics, NC State University kdaniel@ncsu.edu\n",
    "\n",
    "Visiting Fulbright-Nehru Scholar,  IISc Civil Engineering, September 2023 to January 2024\n",
    "\n",
    "## Learning objectives\n",
    "\n",
    "* Use `scikit-image` to find particle centroids using a convolution method\n",
    "* Evaluate subpixel resolution of particle centroids\n"
   ]
  },
  {
   "cell_type": "markdown",
   "metadata": {
    "id": "g3Jnez6hC90R"
   },
   "source": [
    "# Pre-class\n",
    "\n",
    "* *Pre-class reading:* Section 2.4.1 of Shattuck, M. D. Chapter 2: Experimental Techniques. Handbook of Granular Materials. CRC Press (2016)  (PDF is saved in GDrive)\n",
    "* *Bring to class:* laptop with anaconda with `scipy`, `matplotlib`, and `scikit-image` installed, photos of particles (circular or otherwise)"
   ]
  },
  {
   "cell_type": "markdown",
   "metadata": {
    "id": "8DJpywvGD_Ag"
   },
   "source": [
    "# In-Class"
   ]
  },
  {
   "cell_type": "markdown",
   "metadata": {},
   "source": [
    "Load the libraries we'll need for today"
   ]
  },
  {
   "cell_type": "code",
   "execution_count": null,
   "metadata": {},
   "outputs": [],
   "source": [
    "import numpy as np              # for scientific calculations\n",
    "import matplotlib.pyplot as plt # for plotting\n",
    "import skimage                  # for image-processing\n",
    "\n",
    "from skimage.util import img_as_ubyte\n",
    "from scipy import ndimage\n",
    "from skimage.feature import peak_local_max\n",
    "from matplotlib.patches import Circle\n",
    "from skimage.segmentation import watershed"
   ]
  },
  {
   "cell_type": "code",
   "execution_count": null,
   "metadata": {},
   "outputs": [],
   "source": [
    "# if you like interactive plots, run these\n",
    "# otherwise don't\n",
    "\n",
    "%matplotlib notebook\n",
    "plt.ion()"
   ]
  },
  {
   "cell_type": "markdown",
   "metadata": {},
   "source": [
    "## Using kernel convolution to find circle-like objects\n",
    "\n",
    "We're going to use a kernel (template of the expected particle image) to locate objects in the image that match the kernel. \n",
    "\n",
    "$$ {\\tilde I} (x,y) = k * I =  \\sum_{i=0}^{L-1}  \\sum_{j=0}^{L-1} k(i,j)  I(x-i, y-j)$$\n",
    "\n",
    "$$ k*I = \\mathrm{fft}^{-1} [ \\mathrm{fft}(k) \\, \\mathrm{fft}(I) ] $$"
   ]
  },
  {
   "cell_type": "markdown",
   "metadata": {},
   "source": [
    "Feel free to use the image below, or to substitute your own. \n",
    "\n",
    "The `PEdisks.png` image is solid white circles on a black background, so if your image is the other way around, there's a line of code you can uncomment which will invert the image."
   ]
  },
  {
   "cell_type": "code",
   "execution_count": null,
   "metadata": {},
   "outputs": [],
   "source": [
    "img = skimage.io.imread('PEdisks.png')\n",
    "#img = io.imread('subdir/my-picture.jpg')   #use this if your picture is in a subdirectory (Mac/Linux)\n",
    "#img = io.imread('subdir\\my-picture.jpg')   #use this if your picture is in a subdirectory (Windows)\n",
    "\n",
    "#we'll be doing floating point operations, so convert from integer to float\n",
    "image = img_as_ubyte(img[:,:,2]).astype(float)  \n",
    "\n",
    "#uncomment this line if you want invert black-to-white\n",
    "#image = -image\n",
    "\n",
    "#prepare image to have zero mean and max = 1\n",
    "image = image - np.mean(image)\n",
    "image = image/np.max(image)\n",
    "\n",
    "plt.imshow(image,cmap=plt.cm.gray)\n",
    "plt.colorbar()\n",
    "plt.show()"
   ]
  },
  {
   "cell_type": "markdown",
   "metadata": {},
   "source": [
    "**Based on what you know about convolutions (either ingetrals or sums), why is it important for the data to have zero mean? Why is it nice for it to have a max value of 1?**\n",
    "\n",
    "*... your thoughts here ...*"
   ]
  },
  {
   "cell_type": "markdown",
   "metadata": {},
   "source": [
    "### Making a kernel for convolutions\n",
    "\n",
    "Using the interactive mode you should see that the two disk sizes have radii of about 20 and 30 pixels. The code below makes a kernel which is either a solid disk, or a circular perimeter (ring). We'll try both templates to see which works better. "
   ]
  },
  {
   "cell_type": "code",
   "execution_count": null,
   "metadata": {},
   "outputs": [],
   "source": [
    "# make a filled circular kernel with a known radius and a little padding at the outside \n",
    "# R does not neet to be an integer\n",
    "\n",
    "def disckernel(R):\n",
    "    kdim = int(np.ceil(2*(float(R)+0.5)))  # +0.5 gives at least a blank pixel around the outside edge\n",
    "    c = (kdim-1)/2.0  # +/- pixels from center to edge of kernal\n",
    "    x, y = np.indices((kdim, kdim))\n",
    "    kernel = (x-c)**2 + (y-c)**2 < R**2\n",
    "    return(kernel - np.mean(kernel), c)   # return kernal with zero mean, and +/- size of kernel\n",
    "\n",
    "# make a circular kernel with a known radius and width w, with a little padding at the outside \n",
    "# R does not neet to be an integer\n",
    "def circkernel(R, w):\n",
    "    kdim = int(np.ceil(2*(float(R)+0.5)))  # +0.5 gives at least a blank pixel around the outside edge\n",
    "    c = (kdim-1)/2.0  # +/- pixels from center to edge of kernal\n",
    "    kernel = np.zeros((kdim, kdim))\n",
    "    x, y = np.indices((kdim, kdim))\n",
    "    kernel = ((x-c)**2 + (y-c)**2 < R**2 ) &  ((x-c)**2 + (y-c)**2 > (R-w)**2 )\n",
    "    return(kernel - np.mean(kernel), c)   # return kernal with zero mean, and +/- size of kernel\n",
    "\n",
    "\n",
    "R = 19.5\n",
    "\n",
    "f, (ax0, ax1) = plt.subplots(1,2, figsize=(6,3))\n",
    "dkern, dx = disckernel(R)\n",
    "ax0.imshow(dkern, extent=[-dx,dx,-dx,dx],cmap=plt.cm.gray)\n",
    "ax0.set_title('Disc with R=' + str(R))\n",
    "\n",
    "w = 1.5\n",
    "ckern, cx = circkernel(R, 1.5)\n",
    "ax1.imshow(ckern, extent=[-cx,cx,-cx,cx],cmap=plt.cm.gray)\n",
    "ax1.set_title('Circle with R=' + str(R) + ' w=' + str(w))\n",
    "\n",
    "plt.show()"
   ]
  },
  {
   "cell_type": "markdown",
   "metadata": {},
   "source": [
    "### Find the large circles using the disk kernel\n",
    "\n",
    "We're going to do this using the `scipy` convolution package, but if you know Fourier transforms, doing your convolutions in Fourier space would be faster than this.\n",
    "\n",
    "$$ {\\tilde I} (x,y) = k * I =  \\sum_{i=0}^{L-1}  \\sum_{j=0}^{L-1} k(i,j)  I(x-i, y-j)$$\n",
    "\n",
    "$$ k*I = \\mathrm{fft}^{-1} [ \\mathrm{fft}(k) \\, \\mathrm{fft}(I) ] $$"
   ]
  },
  {
   "cell_type": "code",
   "execution_count": null,
   "metadata": {},
   "outputs": [],
   "source": [
    "# do the convolution for just one radius \n",
    "R = 19.0\n",
    "dkern, dx = disckernel(R)\n",
    "conv = ndimage.convolve(image, dkern, mode='constant', cval=0.0)\n",
    "conv = conv/np.max(conv)\n",
    "\n",
    "# each local maximum in the convolution is the center of a circle\n",
    "# setting min_distance discards peaks that are too close together\n",
    "max = peak_local_max(conv, min_distance=int(np.ceil(R)))\n",
    "\n",
    "# plot all circles found\n",
    "f, (ax0,ax1) = plt.subplots(1,2, figsize=(8,4))\n",
    "ax0.imshow(conv)\n",
    "ax0.set_title('Convolution with R=' + str(R))\n",
    "#ax0.colormap()\n",
    "\n",
    "ax1.imshow(image, cmap=plt.cm.gray)\n",
    "for center_y, center_x in max:\n",
    "   circle = Circle((center_x, center_y), R, edgecolor='magenta', facecolor=\"none\", linewidth=2, alpha=0.5)\n",
    "   ax1.add_patch(circle) \n",
    "ax1.set_title('Finding disks with R=' + str(R))\n",
    "\n",
    "plt.show()"
   ]
  },
  {
   "cell_type": "markdown",
   "metadata": {},
   "source": [
    "Modify the radius to +/- a few pixels, and also try the smaller radius particles. You should notice that (like the Hough), the convolution detects particles of the wrong size, but that score is better/worse when there's a good match. \n",
    "\n",
    "Therefore, we will switch to detecting circular rings rather than solid disks."
   ]
  },
  {
   "cell_type": "code",
   "execution_count": null,
   "metadata": {},
   "outputs": [],
   "source": [
    "img = skimage.io.imread('PEdisks.png')\n",
    "image = img_as_ubyte(img[:,:,2]).astype(float)\n",
    "erodedimage = skimage.morphology.erosion(image)\n",
    "\n",
    "# the difference between the original and eroded image\n",
    "# this gives a wider \"rim\" than Canny edge detection, and often works better\n",
    "image = image - erodedimage \n",
    "\n",
    "# set zero mean and max=1\n",
    "image = image - np.mean(image)\n",
    "image = image/np.max(image)\n",
    "plt.imshow(image, cmap=plt.cm.gray)\n",
    "plt.colorbar()\n",
    "plt.show()"
   ]
  },
  {
   "cell_type": "code",
   "execution_count": null,
   "metadata": {},
   "outputs": [],
   "source": [
    "# do the convolution for just one radius \n",
    "R = 19.5\n",
    "w = 1.5\n",
    "ckern, cx = circkernel(R, w)\n",
    "conv = ndimage.convolve(image, ckern, mode='constant', cval=0.0)\n",
    "conv = conv/np.max(conv)\n",
    "\n",
    "# each local maximum in the convolution is the center of a circle\n",
    "# setting min_distance discards peaks that are too close together\n",
    "max = peak_local_max(conv, min_distance=int(np.ceil(R)))\n",
    "\n",
    "# plot all circles found\n",
    "f, (ax0,ax1) = plt.subplots(1,2, figsize=(8,4))\n",
    "ax0.imshow(conv)\n",
    "ax0.set_title('Convolution with R=' + str(R))\n",
    "#ax0.colormap()\n",
    "\n",
    "ax1.imshow(image, cmap=plt.cm.gray)\n",
    "for center_y, center_x in max:\n",
    "   circle = Circle((center_x, center_y), R, edgecolor='magenta', facecolor=\"none\", linewidth=2, alpha=0.5)\n",
    "   ax1.add_patch(circle) \n",
    "ax1.set_title('Finding disks with R=' + str(R))\n",
    "\n",
    "plt.show()"
   ]
  },
  {
   "cell_type": "markdown",
   "metadata": {},
   "source": [
    "**Try a few different values of $R, w$ and see if you can decide which settings give the strongest, clearest peaks.** You should see that the scores for large particles (for small $R$, and vice versa) are *much* weaker than when using the solid disks. What shapes do the \"mistakes\" in small vs. larger look like in the convolution matrix?\n",
    "\n",
    "*... your thoughts here ...*"
   ]
  },
  {
   "cell_type": "markdown",
   "metadata": {},
   "source": [
    "### Write a function to do the convolutions and show them\n",
    "\n",
    "This will make things simpler going forward. You can turn the display feature on and off, depending on whether or not you're in debugging mode."
   ]
  },
  {
   "cell_type": "code",
   "execution_count": null,
   "metadata": {},
   "outputs": [],
   "source": [
    "def convcirc(image, R, w):\n",
    "    ckern, x = circkernel(R, w)\n",
    "    conv = ndimage.convolve(image, ckern, mode='constant', cval=0.0)\n",
    "    conv = conv/np.max(conv)\n",
    "    max = peak_local_max(conv, min_distance=int(np.ceil(R)))\n",
    "    \n",
    "    if 0:  # toggle 0/1 depending on whether you want to show the results\n",
    "        f, ax0 = plt.subplots()\n",
    "        ax0.imshow(conv, cmap=plt.cm.gray)\n",
    "        for center_y, center_x in max:\n",
    "           ax0.plot(center_x, center_y, 'rx')\n",
    "           circle = Circle((center_x, center_y), R, edgecolor='red', facecolor=\"none\", linewidth=2, alpha=0.5)\n",
    "           ax0.add_patch(circle)\n",
    "        plt.title('R = ' + str(R)  + ' convolution')\n",
    "        plt.show()\n",
    "    return(max)"
   ]
  },
  {
   "cell_type": "code",
   "execution_count": null,
   "metadata": {},
   "outputs": [],
   "source": [
    "w=1.5\n",
    "Rs = 19.5\n",
    "maxS = convcirc(image, Rs, w)\n",
    "Rl = 29.0\n",
    "maxL = convcirc(image, Rl, w)\n",
    "\n",
    "f, ax0 = plt.subplots()#ax1.imshow(convS, cmap=plt.cm.gray)\n",
    "ax0.imshow(image, cmap=plt.cm.gray)\n",
    "for center_y, center_x in maxS:\n",
    "   circle = Circle((center_x, center_y), Rs, edgecolor='blue', facecolor=\"none\", linewidth=2, alpha=0.5)\n",
    "   ax0.add_patch(circle)\n",
    "for center_y, center_x in maxL:\n",
    "   circle = Circle((center_x, center_y), Rl, edgecolor='red', facecolor=\"none\", linewidth=2, alpha=0.5)\n",
    "   ax0.add_patch(circle)  \n",
    "plt.title('blue = small, red = large')\n",
    "plt.show()"
   ]
  },
  {
   "cell_type": "markdown",
   "metadata": {},
   "source": [
    "We're still getting false-postives for smalls-inside-larges, so let's first optimize the choice of $R$ to make this less of a problem. We'll do this by varying $R$ and looking at how many circles are detected."
   ]
  },
  {
   "cell_type": "code",
   "execution_count": null,
   "metadata": {},
   "outputs": [],
   "source": [
    "# a range of R values to try (covers both smalls and larges)\n",
    "Rvals = np.arange(16., 34., 0.2)\n",
    "numfound = np.zeros(Rvals.size)\n",
    "w = 1.5\n",
    "\n",
    "for i in range(Rvals.size):\n",
    "    max = convcirc(image, Rvals[i], w)\n",
    "    numfound[i] = max.size\n",
    "    \n",
    "plt.plot(Rvals, numfound, 'x')\n",
    "plt.xlabel('kernel radius [pixels]')\n",
    "plt.ylabel('number found')\n",
    "plt.show()"
   ]
  },
  {
   "cell_type": "markdown",
   "metadata": {},
   "source": [
    "You should see 2 plateaus, one for each particle size. For best restuls, pick a smallish value for each $R$ (such that it doesn't over-detect much). This will give tall, wide peaks in the convolution matrix, and this will make it easiest to pick the correct centroids.\n",
    "\n",
    "Next, we can screen out the weaker peaks by looking at a histogram of the values at the peaks."
   ]
  },
  {
   "cell_type": "code",
   "execution_count": null,
   "metadata": {},
   "outputs": [],
   "source": [
    "R = 20.0\n",
    "w = 1.5\n",
    "ckern, x = circkernel(R, w)\n",
    "conv = ndimage.convolve(image, ckern, mode='constant', cval=0.0)\n",
    "conv = conv/np.max(conv)\n",
    "max = peak_local_max(conv, min_distance=int(np.ceil(R)))\n",
    "peak = np.zeros(max.shape[0])\n",
    "for i in range(max.shape[0]):\n",
    "    peak[i] = conv[max[i,0], max[i,1]]\n",
    "\n",
    "plt.hist(peak)\n",
    "plt.xlabel('peak height')\n",
    "plt.ylabel('number of occurances')\n",
    "plt.show()"
   ]
  },
  {
   "cell_type": "markdown",
   "metadata": {},
   "source": [
    "From this plot, it looks safe to discard all peaks less than 0.55. So, we'll revise our particle-finding function, and test this out."
   ]
  },
  {
   "cell_type": "code",
   "execution_count": null,
   "metadata": {},
   "outputs": [],
   "source": [
    "def convcirc(image, R, w, thresh):\n",
    "    ckern, x = circkernel(R, w)\n",
    "    conv = ndimage.convolve(image, ckern, mode='constant', cval=0.0)\n",
    "    conv = conv/np.max(conv)\n",
    "    max = peak_local_max(conv, min_distance=int(np.ceil(R)), threshold_abs = thresh)\n",
    "    \n",
    "    if 0:  # toggle 0/1 depending on whether you want to show the results\n",
    "        f, ax0 = plt.subplots()\n",
    "        ax0.imshow(conv, cmap=plt.cm.gray)\n",
    "        for center_y, center_x in max:\n",
    "           ax0.plot(center_x, center_y, 'rx')\n",
    "           circle = Circle((center_x, center_y), R, edgecolor='red', facecolor=\"none\", linewidth=2, alpha=0.5)\n",
    "           ax0.add_patch(circle)\n",
    "        plt.title('R = ' + str(R)  + ' convolution')\n",
    "        plt.show()\n",
    "    return(max)\n",
    "\n",
    "max = convcirc(image, 19.5, 1.5, 0.55)\n",
    "print('Found ' + str(max.shape[0]) + ' particles')"
   ]
  },
  {
   "cell_type": "code",
   "execution_count": null,
   "metadata": {},
   "outputs": [],
   "source": [
    "w=1.5\n",
    "Rs = 19.5\n",
    "maxS = convcirc(image, Rs, w, 0.55)\n",
    "Rl = 29.0\n",
    "maxL = convcirc(image, Rl, w, 0.55)\n",
    "\n",
    "f, ax0 = plt.subplots()#ax1.imshow(convS, cmap=plt.cm.gray)\n",
    "ax0.imshow(image, cmap=plt.cm.gray)\n",
    "for center_y, center_x in maxS:\n",
    "   circle = Circle((center_x, center_y), Rs, edgecolor='blue', facecolor=\"none\", linewidth=2, alpha=0.5)\n",
    "   ax0.add_patch(circle)\n",
    "for center_y, center_x in maxL:\n",
    "   circle = Circle((center_x, center_y), Rl, edgecolor='red', facecolor=\"none\", linewidth=2, alpha=0.5)\n",
    "   ax0.add_patch(circle)  \n",
    "plt.title('blue = small, red = large')\n",
    "plt.show()"
   ]
  },
  {
   "cell_type": "markdown",
   "metadata": {},
   "source": [
    "If all has gone well .... this is a perfect result, one circle for each particle, sorted into large and small! \n",
    "\n",
    "**A few things to think about:**\n",
    "* can you see how to fix up the Hough detection (from Day 2) to perform a similar screening?\n",
    "* how would you modify the code to find particles of a large variety of radii?\n",
    "\n",
    "*... your thoughts here ...*"
   ]
  },
  {
   "cell_type": "markdown",
   "metadata": {
    "id": "lYJBFtPHD_Al"
   },
   "source": [
    "## Accuracy vs. precision\n",
    "\n",
    "At the start of this process, we were getting *inaccurate* results: detecting the wrong size circle in a wrong place. This is the most serious type of error to get rid of, and we succeeded in that goal. \n",
    "\n",
    "Next, we want to evaluate the *precision* of our measurements: what is the number of significant digits in the list of centroids. Sadly, the `peak_local_max()` function returns only integer positions, so we'll first improve that precision, then then examine histograms of the *remainder* of the (decimal) centroid coordinates. If these are strongly peaked at 0 and 1, then we have only $\\pm 0.5$ pixel precision. However, convolution methods can usually achieve sub-pixel precision (much better than Hough)."
   ]
  },
  {
   "cell_type": "code",
   "execution_count": null,
   "metadata": {},
   "outputs": [],
   "source": [
    "# revising our function one more time\n",
    "\n",
    "def convcirc(image, R, w, thresh):\n",
    "    ckern, x = circkernel(R, w)\n",
    "    conv = ndimage.convolve(image, ckern, mode='constant', cval=0.0)\n",
    "    conv = conv/np.max(conv)\n",
    "    max = peak_local_max(conv, min_distance=int(np.ceil(R)), threshold_abs = thresh)\n",
    "    # these are just integer values\n",
    "    #print(max) # you can comment this line out once debugging is done\n",
    "    \n",
    "    fitmax = np.copy(max.astype(float))\n",
    "    p = 2 # we'll do a weighted average of this number of pixels on each side\n",
    "    prange = np.arange(-p,p+1) # the +1 is since index  goes *up to* the second value\n",
    "    for i in range(max.shape[0]):\n",
    "        x0 = max[i,0]\n",
    "        y0 = max[i,1]\n",
    "        fitmax[i,0] = np.sum(np.dot(x0+prange, conv[x0-p:x0+p+1, y0]))/np.sum(conv[x0-p:x0+p+1, y0])\n",
    "        fitmax[i,1] = np.sum(np.dot(y0+prange, conv[x0, y0-p:y0+p+1]))/np.sum(conv[x0, y0-p:y0+p+1])\n",
    "    return (fitmax)\n",
    "\n",
    "fitmaxS = convcirc(image, 19.5, 1.5, 0.55)\n",
    "fitmaxL = convcirc(image, 29.0, 1.5, 0.55)\n",
    "\n",
    "#put all coordinates into a single 1D array\n",
    "allmax = np.reshape(np.concatenate([fitmaxS, fitmaxL]), fitmaxL.size + fitmaxS.size)\n",
    "\n",
    "#calculate their remainders\n",
    "remainders = allmax - np.floor(allmax)\n",
    "\n",
    "plt.hist(remainders)\n",
    "plt.xlabel('Remainder')\n",
    "plt.ylabel('# of occurances')\n",
    "plt.show()"
   ]
  },
  {
   "cell_type": "markdown",
   "metadata": {},
   "source": [
    "You'll likey see that you only have a precision of about $\\pm 0.5$ pixels. Feel free to mess around and see if you can do better! Better choice of radius? Better ring method? Better peak-fitting (instead of weigthed average)? Better kernel (smoother edges?)\n",
    "\n",
    "Eric Weeks' webpage has examples of better/worse subpixel resolution: https://physics.emory.edu/faculty/weeks/idl/tracking.html "
   ]
  },
  {
   "cell_type": "code",
   "execution_count": null,
   "metadata": {},
   "outputs": [],
   "source": [
    "# your space to try and do better ... "
   ]
  },
  {
   "cell_type": "markdown",
   "metadata": {
    "id": "MyGLaqvBWjnn"
   },
   "source": [
    " ## Watershed segmentation\n",
    " \n",
    "This is a quick demonstration of watershed segmentation, which `skimage` provides as a built-in package. The code here largely follows the example given in the [documentation](https://scikit-image.org/docs/stable/auto_examples/segmentation/index.html)"
   ]
  },
  {
   "cell_type": "code",
   "execution_count": null,
   "metadata": {},
   "outputs": [],
   "source": [
    "# Generate an initial image with two overlapping circles\n",
    "x, y = np.indices((150, 150))\n",
    "x1, y1, x2, y2 = 58, 52, 74, 100\n",
    "r1, r2 = 25, 40\n",
    "mask_circle1 = (x - x1)**2 + (y - y1)**2 < r1**2\n",
    "mask_circle2 = (x - x2)**2 + (y - y2)**2 < r2**2\n",
    "image = np.logical_or(mask_circle1, mask_circle2)\n",
    "\n",
    "plt.imshow(image, cmap=plt.cm.gray)\n",
    "plt.title('Overlapping objects')\n",
    "plt.show"
   ]
  },
  {
   "cell_type": "code",
   "execution_count": null,
   "metadata": {},
   "outputs": [],
   "source": [
    "# Now we want to separate the two objects in image\n",
    "# Generate the markers as local maxima of the distance to the background (zero)\n",
    "distance = ndimage.distance_transform_edt(image)\n",
    "coords = peak_local_max(distance, footprint=np.ones((3, 3)), labels=image)\n",
    "mask = np.zeros(distance.shape, dtype=bool)\n",
    "mask[tuple(coords.T)] = True\n",
    "markers, _ = ndimage.label(mask)\n",
    "labels = watershed(-distance, markers, mask=image)\n",
    "\n",
    "fig, axes = plt.subplots(ncols=3, figsize=(9, 3), sharex=True, sharey=True)\n",
    "ax = axes.ravel()\n",
    "\n",
    "ax[0].imshow(image, cmap=plt.cm.gray)\n",
    "ax[0].set_title('Overlapping objects')\n",
    "ax[1].imshow(-distance, cmap=plt.cm.gray)\n",
    "ax[1].set_title('Distances')\n",
    "ax[2].imshow(labels, cmap=plt.cm.nipy_spectral)\n",
    "ax[2].set_title('Separated objects')\n",
    "\n",
    "for a in ax:\n",
    "    a.set_axis_off()\n",
    "\n",
    "fig.tight_layout()\n",
    "plt.show()"
   ]
  },
  {
   "cell_type": "code",
   "execution_count": null,
   "metadata": {},
   "outputs": [],
   "source": [
    "# now, pick and image from your collection, and segement the objects \n",
    "\n",
    "img = skimage.io.imread('apples-oranges.jpg')\n",
    "image = img_as_ubyte(img[:,:,2])  # just the blue channel, which is similar for both fruits\n",
    "\n",
    "img = skimage.io.imread('PEdisks.png')\n",
    "image = img_as_ubyte(img)\n",
    "\n",
    "plt.imshow(image, cmap=plt.cm.gray)\n",
    "plt.show()"
   ]
  },
  {
   "cell_type": "markdown",
   "metadata": {
    "id": "2nKDvjATD_Ao"
   },
   "source": [
    "# Post-class\n",
    "\n",
    "## Every week\n",
    "\n",
    "If you and your group worked together on a single notebook, don't forget to email each other a copy of the final version.\n",
    "\n",
    "Please feel free to complete any parts you didn't finish, and ask questions at the start of the next class."
   ]
  },
  {
   "cell_type": "code",
   "execution_count": null,
   "metadata": {},
   "outputs": [],
   "source": []
  }
 ],
 "metadata": {
  "colab": {
   "provenance": [],
   "toc_visible": true
  },
  "kernelspec": {
   "display_name": "Python 3 (ipykernel)",
   "language": "python",
   "name": "python3"
  },
  "language_info": {
   "codemirror_mode": {
    "name": "ipython",
    "version": 3
   },
   "file_extension": ".py",
   "mimetype": "text/x-python",
   "name": "python",
   "nbconvert_exporter": "python",
   "pygments_lexer": "ipython3",
   "version": "3.9.13"
  }
 },
 "nbformat": 4,
 "nbformat_minor": 1
}

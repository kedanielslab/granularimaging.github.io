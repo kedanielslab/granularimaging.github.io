{
 "cells": [
  {
   "cell_type": "markdown",
   "metadata": {
    "id": "x-E83WuIC90O"
   },
   "source": [
    "###### Imaging Methods in Granular & Complex Fluids\n",
    "# Day 8: Refractive Index Matched Scanning\n",
    "\n",
    "Karen Daniels, Distinguished Professor of Physics, NC State University kdaniel@ncsu.edu\n",
    "\n",
    "Visiting Fulbright-Nehru Scholar, IISc Civil Engineering, September 2023 to January 2024\n",
    "\n",
    "<img src=\"RIMS-caliper.png\" align=\"right\" clear=\"right\" width=400 title=\"dense suspension flow illuminated by a green laser line, from https://www.instagram.com/p/CjICFUpoK1r/\" />\n",
    "\n",
    "\n",
    "## Learning objectives\n",
    "\n",
    "* use and explain absorption vs. flourescence imaging\n",
    "* make a laser sheet out of a laser pointer and glass stirring rod\n",
    "* use and explain refractive index matching using water beads and sugar\n",
    "* combine these to (try and) build a frugal version of this https://www.instagram.com/p/CjICFUpoK1r/ (snapshot shown at right)\n",
    "* collective stretch goal: create an instructable like [this](https://www.instructables.com/Low-Cost-PIV-System/)\n"
   ]
  },
  {
   "cell_type": "markdown",
   "metadata": {
    "id": "g3Jnez6hC90R"
   },
   "source": [
    "# Pre-class\n",
    "\n",
    "* *Pre-class reading:* Dijksman, J. A., Rietz, F., Lőrincz, K. A., van Hecke, M., & Losert, W. (2012). Invited Article: Refractive index matched scanning of dense granular materials. *Review of Scientific Instruments* 83: 011301. https://doi.org/10.1063/1.3674173 (available by joining this [Zotero Library](https://www.zotero.org/groups/5274108/granularimaging))\n",
    "* *Bring to class:* laptop, smartphone, green laser pointer (if you have one), lazy-susan from your kitchen (if you have one), mini phone-tripod  (if you have one)\n",
    "* Access to files in Day 8 Folder (download .zip file to your computer)"
   ]
  },
  {
   "cell_type": "markdown",
   "metadata": {
    "id": "8DJpywvGD_Ag"
   },
   "source": [
    "# In-Class\n",
    "\n",
    " "
   ]
  },
  {
   "cell_type": "code",
   "execution_count": null,
   "metadata": {},
   "outputs": [],
   "source": [
    "import numpy as np              # for scientific calculations\n",
    "import matplotlib.pyplot as plt # for plotting\n",
    "import skimage                  # for image-processing\n",
    "import imageio                  # for reading/writing images\n",
    "from skimage.util import img_as_ubyte\n",
    "from matplotlib.patches import Circle"
   ]
  },
  {
   "cell_type": "markdown",
   "metadata": {},
   "source": [
    "## RIMS ingredients\n",
    "\n",
    "The underlying principle is to use *transparent particles* in an *index-matched medium* to *visualize the locations* of all particles in a 3D system. This is typically done by providing some color-contrast between the particles using a *dye*, and scaning a *laser sheet* through the system to create a 3D stack of images. Today, we will go through each of these five pieces uses mostly household/Amazon materials. This will allow us to examine each of the design choices that would be made in optimizing a more precise apparatus, including the interactions between these choices. \n",
    "\n",
    "## Before we start: laser safety!\n",
    "\n",
    "We are using simple red laser diode pointers, but the light is still quite high-intensity and should never be pointed towards any directions where a person's eye might be. \n",
    "\n",
    "My request for today: when we're working with the lasers, everyone is standing (not sitting!) and the lasers are being pointed around at table level. This will keep them away from our eyes. \n",
    "\n",
    "For reference: our lasers probably have a wavelenght $\\lambda \\approx 635$ nm.\n",
    "\n",
    "If somebody has a green laser pointer available, that would be great to try as well but needs to be even more carefully kept away from eye-level.\n",
    "\n",
    "\n",
    "## Transparent particles\n",
    "\n",
    "Table of optically-clear particles from Dijksman et al. (2012). What do you see as pros/cons of each of these?\n",
    "\n",
    "<img src=\"solids.png\" width=\"500\" title=\"Source: Dijksman et al. 2012\" />\n",
    "\n",
    "Today, we will use hydrogel beads (of the same type used for flower-arranging or dispersing room scents) as our experimental system. In addition to being inexpensive, they come pre-dyed and have a low index of refraction, making them easy to index-match. These are shipped as mm-sized hard spheres, and swell overnight in water to cm-sized soft spheres. Since they are almostly entirely water (once swelled) it is also easy to density-match if that is desirable. Note that salts in the solution will change their size (and stiffness), not just provide density or index matching. We will examine such scenarios below.\n",
    "\n",
    "\n",
    "## Introduction to light absorption & fluorescence\n",
    "\n",
    "Most published papers on refractive index matched scanning (RIMS) use a fluorecent dye to optically tag the particles separately from the fluid. For simplicity, we will use the red or green dyes that have already been embedded in our hydrogel beads. However, I also have 3 samples which were swelled in \n",
    "\n",
    "* [aceto orecein dye](https://www.lobachemie.com/Hematology-and-Histology-00537/ACETO-ORCEIN-CASNO-NA.aspx)\n",
    "* [methylene blue](https://www.lobachemie.com/Hematology-and-Histology-4648D/methylene-blue-1-wv-for-cytology.aspx)\n",
    "* \"natural red\" (another common cell stain)\n",
    "\n",
    "### Experiment 1: laser transmission/absporption\n",
    "\n",
    "Use your laser pointer to examine in which regions (and which colored particles) you can see the laser beam? From direction(s) is it visible What do you notice about its transmission? ______\n",
    "\n",
    "**Discussion:** What color channel of your camera do you expect will have the best signal for detecting these differences?\n",
    "\n",
    "### Absoprtion vs. fluorescence\n",
    "\n",
    "If you want to (later) upgrade to fluorescence, this is a handy resource for examining possible dyes:\n",
    "https://www.aatbio.com/fluorescence-excitation-emission-spectrum-graph-viewer/fluorescein \n",
    "\n",
    "Fluorescent dye molecules absorb higher-energy (shorter wavelenth) light, and emit lower-energy (longer-wavelength) light. Therefore, to use a fluorescent setup, you would also nee also need to purchase of set of optical filters which allow you to filter the excitation light so that it isn't detected as part of the emitted light. And you also need to match the wavelength of your laser to be as close as possible to the absorption peak. \n",
    "However, using this method will dramatically improve your signal-to-noise ratio!  \n",
    "\n",
    "One further complication: your choice of dye and all other materials can result in issues chemical compatibility So, please see Dijksman et al. 2012 for a more detailed discussion of these considerations before making choices and purchases."
   ]
  },
  {
   "cell_type": "markdown",
   "metadata": {},
   "source": [
    "## Making a laser sheet\n",
    "\n",
    "Laser line sources are crucial for establishing a single imaging plane for the camera to take a picture of, but as a quick aside, also check out this other use: \n",
    "\n",
    "<img src=\"http://www.math.ucla.edu/~bertozzi/pics/oilspill1.jpg\" width=\"500\"\n",
    "       title=\"laser sheet illuminating a dense suspension flow, portrait of Andrea Bertozzi\" />\n",
    "\n",
    "Note that for an opaque granular flow, you can use one to measure the profile across the top surface of a flow, by aiming it obliquely.\n",
    "\n",
    "You can purchase an inexpensive laser diode with a pre-attached laser sheet generator, but we'll go with a home-built version today. \n",
    "\n",
    "### To assemble a laser sheet from common lab items\n",
    "\n",
    "* Place your glass stirring rod against the front of the laser pointer (centered on the light) and shine it at a blank wall, never in the direction of a person. \n",
    "\n",
    "* You should see a sharp line generated in the direction the beam is being expanded due to the convex curvature of the sirring rod. \n",
    "\n",
    "* Tape/superglue this securely so that you can still turn the light on/off with the button.\n",
    "\n",
    "### Experiment 2: Test your laser sheet\n",
    "\n",
    "Estimate how far away from a sample you need to be, in order to generate a 10 cm wide line: _______\n",
    "\n"
   ]
  },
  {
   "cell_type": "markdown",
   "metadata": {},
   "source": [
    "### Experiment 3: Image a profile\n",
    "\n",
    "* Place a small pile of grains or foam on the surface of the table.\n",
    "\n",
    "* Use your camera to see how to capture the shape of the interface.\n",
    "\n",
    "* Discuss how you might calibrate this measurement to be in real units (e.g. mm)\n",
    "\n",
    "\n",
    "Your ideas here: _____"
   ]
  },
  {
   "cell_type": "code",
   "execution_count": null,
   "metadata": {},
   "outputs": [],
   "source": [
    "# if you want to look at your image\n",
    "myimage = skimage.io.imread('profile.jpg')\n",
    "myimage = img_as_ubyte(myimage[:,:,0])  #gets the red channel only (where the line is stored)\n",
    "\n",
    "plt.imshow(myimage, cmap='gray')\n",
    "plt.show()"
   ]
  },
  {
   "cell_type": "markdown",
   "metadata": {},
   "source": [
    "## Index matching\n",
    "\n",
    "Examine the boxes of particles -- can you see their edges? if so, there is a lack of image matching. Each round particle acts (slightly) as a lens and distorts the light being transmitted. This image from Dijksman et al. 2012 shows what a laser sheet looks like after it has passed through a poorly index-matched system.\n",
    "\n",
    "<img src=\"IMtransmission.png\" width=\"500\" title=\"Source: Dijksman et al. 2012\" />\n",
    "\n",
    "### Experiment 4: evaluate tranmission\n",
    "\n",
    "Set up your laser sheet to shine horizontally through your system of hydrogel beads, onto a wall. By looking directly at the laser's illumination of the wall, you can visualize how much scatter there has been to multiple refractions at each sphere-water interface. \n",
    "\n",
    "You can add (and stir) some of the simple syrup (50-50 water and sugar by volume) into your system and look for signs of improvement. \n",
    "\n",
    "As you do this, the particles themselves should become clearer when viewed from above. Here's a sample (from Dijksman et al. 2012) of the significant improvements that can be made with small changes in refractive index $n$.\n",
    "\n",
    "<img src=\"indexmatch.png\" width=\"300\" title=\"Source: Dijksman et al. 2012\" />\n"
   ]
  },
  {
   "cell_type": "code",
   "execution_count": null,
   "metadata": {},
   "outputs": [],
   "source": [
    "# if you want to look at your image\n",
    "myimage = skimage.io.imread('slice.jpg')\n",
    "myimage = img_as_ubyte(myimage[:,:,0])  #gets the red channel only (where the line is stored)\n",
    "\n",
    "plt.imshow(myimage, cmap='gray')\n",
    "plt.show()"
   ]
  },
  {
   "cell_type": "markdown",
   "metadata": {},
   "source": [
    "## Putting all the parts together\n",
    "\n",
    "You now have all the pieces of a home-build RIMS device, if you're willing to provide the scanning and camera work by hand. Give it a go? If so, name your slices in numerical order (<tt>slice.001.jpg, slice.002.jpg, slice.003.jpg</tt>) and you can assemble them into a 3D volume.\n",
    "\n",
    "If you want to visualize 3D data, find centroids, track particles, etc. I recommend the same resources as from Week 7 (tomography). e.g. https://www.spam-project.dev/\n",
    "\n",
    "And, we could make an instructable like [this](https://www.instructables.com/Low-Cost-PIV-System/) to show how it's done? "
   ]
  },
  {
   "cell_type": "markdown",
   "metadata": {
    "id": "2nKDvjATD_Ao"
   },
   "source": [
    "# Post-class\n",
    "\n",
    "If you and your group worked together on a single notebook, don't forget to email each other a copy of the final version.\n",
    "\n",
    "Please feel free to complete any parts you didn't finish, and ask questions at the start of the next class.\n",
    "\n",
    "Join this [Zotero Library](https://www.zotero.org/groups/5274108/granularimaging) in order to get access to all course readings (PDFs and web pages) in one place without needing library access."
   ]
  },
  {
   "cell_type": "code",
   "execution_count": null,
   "metadata": {},
   "outputs": [],
   "source": []
  }
 ],
 "metadata": {
  "colab": {
   "provenance": [],
   "toc_visible": true
  },
  "kernelspec": {
   "display_name": "Python 3 (ipykernel)",
   "language": "python",
   "name": "python3"
  },
  "language_info": {
   "codemirror_mode": {
    "name": "ipython",
    "version": 3
   },
   "file_extension": ".py",
   "mimetype": "text/x-python",
   "name": "python",
   "nbconvert_exporter": "python",
   "pygments_lexer": "ipython3",
   "version": "3.9.18"
  }
 },
 "nbformat": 4,
 "nbformat_minor": 1
}

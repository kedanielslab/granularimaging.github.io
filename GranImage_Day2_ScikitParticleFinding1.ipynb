{
 "cells": [
  {
   "cell_type": "markdown",
   "metadata": {
    "id": "x-E83WuIC90O"
   },
   "source": [
    "# Imaging Methods in Granular & Complex Fluids\n",
    "\n",
    "# Day 2: Intro to `scikit-image` and particle finding (1 of 2)\n",
    "\n",
    "Karen Daniels, Distinguished Professor of Physics, NC State University kdaniel@ncsu.edu\n",
    "\n",
    "Visiting Fulbright-Nehru Scholar,  IISc Civil Engineering, September 2023 to January 2024\n",
    "\n",
    "## Learning objectives\n",
    "\n",
    "* Use a Jupyter Notebook within anaconda\n",
    "* Reinforce skills at loading and manipulating digital images\n",
    "* Use `scikit-image` to \n",
    "     * modify an image to make it easier to find particles\n",
    "     * find particle centroids using Hough transform\n",
    "     * measure particle properties obtained through a basic form of image segementation (thresholding)\n"
   ]
  },
  {
   "cell_type": "markdown",
   "metadata": {
    "id": "g3Jnez6hC90R"
   },
   "source": [
    "# Pre-class\n",
    "\n",
    "* *Pre-class reading:* [Hough Transform Primer](https://www.scaler.com/topics/hough-transform-in-image-processing/)\n",
    "* *Bring to class:* smartphone, laptop with anaconda with `scipy`, `matplotlib`, and `scikit-image` installed, photos from last week"
   ]
  },
  {
   "cell_type": "markdown",
   "metadata": {
    "id": "8DJpywvGD_Ag"
   },
   "source": [
    "# In-Class"
   ]
  },
  {
   "cell_type": "markdown",
   "metadata": {
    "id": "L4XIZMjQD_Ah"
   },
   "source": [
    "## Testing anaconda installation\n",
    "\n",
    "Check that you can load these packages without errors. If not, use the Ananconda GUI to find and install them, or else use the command line (`conda install skimage`)"
   ]
  },
  {
   "cell_type": "code",
   "execution_count": null,
   "metadata": {},
   "outputs": [],
   "source": [
    "import numpy as np              # for scientific calculations\n",
    "import matplotlib.pyplot as plt # for plotting\n",
    "import skimage                  # for image-processing"
   ]
  },
  {
   "cell_type": "markdown",
   "metadata": {
    "id": "L4XIZMjQD_Ah"
   },
   "source": [
    "## Getting started, with a low-quality image\n",
    "\n",
    "\n",
    "Make sure that you have saved the `apples-oranges.jpg` image in the same subdirectory where you saved this Jupyter notebook, since this will be the simplest way for the notebooks to find the right file.\n",
    "\n",
    "We're also going to turn on a useful feature of matplotlib: interactive plots. This will let you zoom in/out within plots to examine them more closely. Once you're done examining, simply click the \"power\" button up the upper right to turn off interactivity. \n",
    "\n",
    "If you don't like this feature, comment out the first two lines by putting a # in front of them. You can also use the command `plt.ioff()` will turn the interactivity off for future plots. "
   ]
  },
  {
   "cell_type": "code",
   "execution_count": null,
   "metadata": {},
   "outputs": [],
   "source": [
    "%matplotlib notebook\n",
    "plt.ion()\n",
    "\n",
    "img = skimage.io.imread('apples-oranges.jpg')\n",
    "#img = io.imread('subdir/my-picture.jpg')   #use this if the picture is inside a subdirectory (Mac/Linux)\n",
    "#img = io.imread('subdir\\my-picture.jpg')   #use this if the picture is inside a subdirectory (Windows)\n",
    "plt.imshow(img)"
   ]
  },
  {
   "cell_type": "markdown",
   "metadata": {},
   "source": [
    "Our aims are to: \n",
    "* identify the individual circle-like objects within the image\n",
    "* find the coordinate of their centers (\"centroids\")\n",
    "* measure the sizes of the objects\n",
    "\n",
    "To get started, use the scales (in pixels) at the edge of the picture to estimate the typical radius of the objects in the picture."
   ]
  },
  {
   "cell_type": "code",
   "execution_count": null,
   "metadata": {},
   "outputs": [],
   "source": [
    "# use the interactive zoom feature to decide a reasonable radius range for the objects\n",
    "# type those min/max values here:\n",
    "\n",
    "Rmin = \n",
    "Rmax = "
   ]
  },
  {
   "cell_type": "markdown",
   "metadata": {
    "id": "pfxAdIxID_Ah"
   },
   "source": [
    "## Using `scikit-image` Hough transform to identify circle-like objects"
   ]
  },
  {
   "cell_type": "markdown",
   "metadata": {
    "id": "gQG-CAL_D_Ai"
   },
   "source": [
    "You can read the [Documentation](https://scikit-image.org/docs/stable/auto_examples/edges/plot_circular_elliptical_hough_transform.html) for this package to find out more about the options; the code below is modified from that source."
   ]
  },
  {
   "cell_type": "code",
   "execution_count": null,
   "metadata": {
    "id": "hmS9CWfSD_Aj"
   },
   "outputs": [],
   "source": [
    "import numpy as np\n",
    "import matplotlib.pyplot as plt\n",
    "\n",
    "# loading just the parts of the scikit-image package that we'll be using\n",
    "from skimage import data, color\n",
    "from skimage.transform import hough_circle, hough_circle_peaks\n",
    "from skimage.feature import canny\n",
    "from skimage.draw import circle_perimeter\n",
    "from skimage.util import img_as_ubyte\n",
    "\n",
    "# Load picture as unsigned 8-bit integers\n",
    "img = skimage.io.imread('apples-oranges.jpg')\n",
    "image = img_as_ubyte(img[:,:,2])  # just the blue channel, which is similar for both fruits\n",
    "plt.imshow(image, cmap=plt.cm.gray)\n",
    "plt.show()"
   ]
  },
  {
   "cell_type": "markdown",
   "metadata": {},
   "source": [
    "The Hough transforms works on outlines of circles, not on filled-in disks, so we first need to use an edge-detection algorithm to find the sharpest edges in the picture. One common method is [Canny edge detection](https://en.wikipedia.org/wiki/Canny_edge_detector), and the [`skimage` documentation](https://scikit-image.org/docs/stable/auto_examples/edges/plot_canny.html) describes its implementation here. \n",
    "\n",
    "Use the interactive zoom to explore, and you should see a nice round outline of each fruit, but also some smaller features inside (that we're not interested in)."
   ]
  },
  {
   "cell_type": "code",
   "execution_count": null,
   "metadata": {
    "id": "hmS9CWfSD_Aj"
   },
   "outputs": [],
   "source": [
    "# The Canny these settings might need to be changed depending on the properties of your image\n",
    "# if you want to try other values\"\n",
    "#      make a copy of the original line\n",
    "#      comment out the original line\n",
    "#      play with the values in the copy (so that the original is safe)\n",
    "\n",
    "edges = canny(image, sigma=3, low_threshold=10, high_threshold=50) \n",
    "plt.imshow(edges)\n",
    "plt.colorbar()\n",
    "plt.show()"
   ]
  },
  {
   "cell_type": "markdown",
   "metadata": {},
   "source": [
    "The Hough algorithm looks for circle-like objects within some range $R_{min}$ to $R_{max}$, and provides a score for each object. The user has the choice to look at all or some of the objects found. \n",
    "\n",
    "Run this code and take a look and zoom around for various choices of $R$. You should be able to find the highest scores near where you expect the centers of the objects."
   ]
  },
  {
   "cell_type": "code",
   "execution_count": null,
   "metadata": {
    "id": "hmS9CWfSD_Aj"
   },
   "outputs": [],
   "source": [
    "# Detect all objects with a radii within a set range from R_min to R_max in s\n",
    "# the longer the list, the long the algorithm takes \n",
    "Rmin = 220\n",
    "Rmax = 280\n",
    "Rstep = 5\n",
    "hough_radii = np.arange(Rmin, Rmax, Rstep)\n",
    "print('Trying radii: ', hough_radii)\n",
    "hough_res = hough_circle(edges, hough_radii)\n",
    "\n",
    "# look at the scores for a particular radius being sought\n",
    "i=4\n",
    "plt.imshow(hough_res[i,:,:])\n",
    "plt.title('Hough score for R=' + str(hough_radii[i]))\n",
    "plt.colorbar()\n",
    "plt.show()"
   ]
  },
  {
   "cell_type": "markdown",
   "metadata": {},
   "source": [
    "In the image above, use the interactive zoom to look at someplace where you know there should be a center. You should see higher scores (yellower) for a small number of pixels. Because the apples and oranges aren't very circular, there isn't a nice, clean central peak.\n",
    "\n"
   ]
  },
  {
   "cell_type": "markdown",
   "metadata": {},
   "source": [
    "Switch which of the radii on the list you're plotting at the end: can you see that some work better than others for some of the fruits, depending on the size of the fruit? **What do you notice?** \n",
    "\n",
    "*... your thoughts here ... (double click the box to edit it)*"
   ]
  },
  {
   "cell_type": "markdown",
   "metadata": {},
   "source": [
    "Next, we'll use the python algorithm that finds those peaks. You can change the value of `total_num_peaks` if you'd like. The original value I put was 20, but that's not a particularly well-considered value."
   ]
  },
  {
   "cell_type": "code",
   "execution_count": null,
   "metadata": {
    "id": "hmS9CWfSD_Aj"
   },
   "outputs": [],
   "source": [
    "# Select the centroids of the most prominent 20 circles\n",
    "accums, cx, cy, radii = hough_circle_peaks(hough_res, hough_radii,\n",
    "                                           total_num_peaks=20)\n",
    "plt.imshow(image, cmap=plt.cm.gray)\n",
    "plt.plot(cx, cy, 'rx')\n",
    "plt.show()"
   ]
  },
  {
   "cell_type": "markdown",
   "metadata": {},
   "source": [
    "You'll notice that some objects get detcted more than once (many red `x` inside some fruits), when they have portions of their outer edge which match different radii circles. And others got missed entirely. "
   ]
  },
  {
   "cell_type": "markdown",
   "metadata": {},
   "source": [
    "**What types of objects do you expect the Hough transform to work best/worst on?** \n",
    "\n",
    "*... your thoughts here...*"
   ]
  },
  {
   "cell_type": "markdown",
   "metadata": {},
   "source": [
    "Next, we'll examine how well the Hough transform worked by drawing the circles it found."
   ]
  },
  {
   "cell_type": "code",
   "execution_count": null,
   "metadata": {},
   "outputs": [],
   "source": [
    "# Draw them as circles\n",
    "from matplotlib.patches import Circle\n",
    "\n",
    "fig, ax = plt.subplots()\n",
    "ax.imshow(image, cmap=plt.cm.gray)\n",
    "\n",
    "for center_y, center_x, radius in zip(cy, cx, radii):\n",
    "    circle = Circle((center_x, center_y), radius, edgecolor='blue', facecolor=\"none\", linewidth=3, alpha=0.5)\n",
    "    ax.add_patch(circle)\n",
    "\n",
    "ax.set_aspect('equal')\n",
    "plt.show()"
   ]
  },
  {
   "cell_type": "markdown",
   "metadata": {},
   "source": [
    "**Using the interactive zoom, what do you notice about the circles it found?**\n",
    "\n",
    "*... your thoughts here...*"
   ]
  },
  {
   "cell_type": "markdown",
   "metadata": {
    "id": "RCxh2I6ND_Aj"
   },
   "source": [
    "## An example with cleaner circles\n",
    "\n",
    "We're going to repeat the above example for an image (your own, or the `PEdisks.png` provided in today's subdirectory; download a copy to your own computer) for which the objects are more nearly circular.  If you'd like to use your own image, select one with good contrast, no strong gradients, and the particles at least approximately circular. \n",
    "\n",
    "Whichever images you use, be sure to save them in the same directory as this Jupyter Notebook.\n",
    "\n",
    "Suggestion: duplicate this next cell in order to examine your own image, and leave the example code pristine. The \"Edit\" menu has some selectable items that will do this task for you.\n",
    "\n",
    "If you want to see the intermediate steps, feel free to uncomment the plotting code. "
   ]
  },
  {
   "cell_type": "code",
   "execution_count": null,
   "metadata": {
    "id": "xSTTKecuD_Ak"
   },
   "outputs": [],
   "source": [
    "img = skimage.io.imread('PEdisks.png')\n",
    "image = img_as_ubyte(img[:,:,2])  # just the blue channel\n",
    "#image[image > 60] = 255\n",
    "#plt.imshow(image, cmap=plt.cm.gray)\n",
    "#plt.show()\n",
    "\n",
    "edges = canny(image, sigma=3, low_threshold=10, high_threshold=50) \n",
    "#plt.imshow(edges)\n",
    "#plt.colorbar()\n",
    "#plt.show()\n",
    "\n",
    "hough_radii = np.array([19,28])\n",
    "# only putting in 2 possible radii, since I know the correct values\n",
    "hough_res = hough_circle(edges, hough_radii)\n",
    "# look at the scores for a particular radius being sought\n",
    "#i=4\n",
    "#plt.imshow(hough_res[i,:,:])\n",
    "#plt.title('Hough score for R=' + str(hough_radii[i]))\n",
    "#plt.colorbar()\n",
    "#plt.show()\n",
    "accums, cx, cy, radii = hough_circle_peaks(hough_res, hough_radii, total_num_peaks=32)\n",
    "\n",
    "fig, ax = plt.subplots()\n",
    "ax.imshow(image, cmap=plt.cm.gray)\n",
    "for center_y, center_x, radius in zip(cy, cx, radii):\n",
    "    circle = Circle((center_x, center_y), radius, edgecolor='blue', facecolor=\"none\", linewidth=3, alpha=0.5)\n",
    "    ax.add_patch(circle)\n",
    "ax.plot(cx, cy, 'rx')\n",
    "ax.set_aspect('equal')\n",
    "plt.show()"
   ]
  },
  {
   "cell_type": "markdown",
   "metadata": {},
   "source": [
    "**Compared to the fruits example, what do you notice is the same/different?**\n",
    "\n",
    "*... your thoughts here...*"
   ]
  },
  {
   "cell_type": "markdown",
   "metadata": {
    "id": "Vw_9gvwFD_An"
   },
   "source": [
    "## Exploring properties of objects within an image\n",
    "\n",
    "`scikit-image` also has some built-inpackages for image-segmentation which do not require the objects to be circles. \n",
    "\n",
    "*Some of this Module's content is adapteed from this [online tutorial](https://scipy-lectures.org/packages/scikit-image/index.html), which has additional examples if you're interested in learning more.*\n",
    "\n",
    "Documentation for the `measure` toolbox: https://scikit-image.org/docs/dev/api/skimage.measure.html\n",
    "\n",
    "Documenation for the `morphology` toolbox: https://scikit-image.org/docs/stable/api/skimage.morphology.html"
   ]
  },
  {
   "cell_type": "code",
   "execution_count": null,
   "metadata": {},
   "outputs": [],
   "source": [
    "from skimage import measure    # give ourselves a shortcut to some more tools"
   ]
  },
  {
   "cell_type": "code",
   "execution_count": null,
   "metadata": {
    "id": "Z7q_ok3QGsVe"
   },
   "outputs": [],
   "source": [
    "# Find all regions above the mean\n",
    "img = skimage.io.imread('PEdisks.png')  # or your own image if you prefer\n",
    "img = img_as_ubyte(img[:,:,2])\n",
    "threshold = img > 0.8*img.mean()\n",
    "# Ask yourself: what does that line of code mean?\n",
    "\n",
    "plt.imshow(threshold, cmap='gray')\n",
    "plt.title('thresholded image')\n",
    "plt.show()"
   ]
  },
  {
   "cell_type": "code",
   "execution_count": null,
   "metadata": {
    "id": "MyGLaqvBWjnn"
   },
   "outputs": [],
   "source": [
    "# Label each connected-component with a unique name (will be a unique color)\n",
    "all_labels = measure.label(threshold)  \n",
    "# Each region of the image \"threshold\" is saved into\n",
    "# a new image named \"all_labels\" where the pixel has the \n",
    "# a value that is the label for that region\n",
    "\n",
    "# more info about this funcion here:\n",
    "# https://scikit-image.org/docs/dev/api/skimage.measure.html#skimage.measure.label\n",
    "# which also says a little bit about how it works\n",
    "\n",
    "# we can see how this works by looking at the data inside the image\n",
    "plt.imshow(all_labels,cmap='plasma')\n",
    "# for example:\n",
    "row = 120\n",
    "col = 170\n",
    "plt.plot(col,row, 'gx')\n",
    "plt.colorbar()\n",
    "plt.show()\n",
    "print('x marks the region named', all_labels[row,col])"
   ]
  },
  {
   "cell_type": "markdown",
   "metadata": {},
   "source": [
    "**To do:** move the row and col values around to see the different name inside different regions. You'll see that may particles are lumped into the same region.  Can out out how the color/number works, based on the colorbar? While in interactive mode, notice the displayed numbers in the lower right that correspond to the current mouse location.\n",
    "\n",
    "*... space to write some notes ...*"
   ]
  },
  {
   "cell_type": "markdown",
   "metadata": {},
   "source": [
    "We'll modify the code above to set a higher threshold, and then \"erode\" the circles slightly, to give them some separation. Better? You can play with the threshold and repeat the erosion more times, if you'd like."
   ]
  },
  {
   "cell_type": "code",
   "execution_count": null,
   "metadata": {},
   "outputs": [],
   "source": [
    "img = skimage.io.imread('PEdisks.png')  # or your own image if you prefer\n",
    "img = img_as_ubyte(img[:,:,2])\n",
    "threshold = img > 0.9*img.mean()\n",
    "threshold = skimage.morphology.erosion(threshold)\n",
    "threshold = skimage.morphology.erosion(threshold)\n",
    "# if you curious how python packages work: not that I didn't give a shortcut name to morphology\n",
    "# this means that we have to type out the full name in order to use it\n",
    "\n",
    "plt.imshow(threshold, cmap='gray')\n",
    "plt.title('thresholded image')\n",
    "plt.show()"
   ]
  },
  {
   "cell_type": "markdown",
   "metadata": {},
   "source": [
    "**What are the pros/cons between this method and the Hough method?** \n",
    "\n",
    "*...space for your ideas here ...*"
   ]
  },
  {
   "cell_type": "code",
   "execution_count": null,
   "metadata": {},
   "outputs": [],
   "source": [
    "# trying labeling again, see improvement?\n",
    "all_labels = measure.label(threshold)\n",
    "plt.imshow(all_labels,cmap='plasma')\n",
    "plt.colorbar()\n",
    "plt.show()\n",
    "\n",
    "# if you want to try morphological functions, read the docs and you can clean your regions up even more"
   ]
  },
  {
   "cell_type": "markdown",
   "metadata": {},
   "source": [
    "Next, we'll measure some of the properties of these regions we found."
   ]
  },
  {
   "cell_type": "code",
   "execution_count": null,
   "metadata": {},
   "outputs": [],
   "source": [
    "regions = measure.regionprops(all_labels)\n",
    "\n",
    "print('Found', len(regions), 'regions')\n",
    "\n",
    "i=5\n",
    "print('Examining region #', i)\n",
    "print('Center coordinates', regions[i].centroid)\n",
    "\n",
    "\n",
    "# can you 'Edit this line' to figure out what each one does?\n",
    "\n",
    "ecc = [prop.eccentricity for prop in regions]\n",
    "print('Edit this line:', ecc[i])\n",
    "\n",
    "rowscols = regions[i].coords\n",
    "print('Edit this line:', rowscols[i,0], rowscols[i,1], img[rowscols[i,0],rowscols[i,1]])\n",
    "\n",
    "areas = [prop.area for prop in regions]\n",
    "print('Edit this line:', areas[24])\n",
    "count = 0\n",
    "for i in range(len(regions)):\n",
    "    if areas[i] > 10:\n",
    "        count += 1\n",
    "print('Edit this line:', count)\n"
   ]
  },
  {
   "cell_type": "code",
   "execution_count": null,
   "metadata": {},
   "outputs": [],
   "source": [
    "# more space for you to play around with the code ... \n",
    "# try different types of images from the shared images directory, et. "
   ]
  },
  {
   "cell_type": "markdown",
   "metadata": {
    "id": "2nKDvjATD_Ao"
   },
   "source": [
    "# Post-class\n",
    "\n",
    "## Every week\n",
    "\n",
    "If you and your group worked together on a single notebook, don't forget to email each other a copy of the final version.\n",
    "\n",
    "Please feel free to complete any parts you didn't finish, and ask questions at the start of the next class."
   ]
  }
 ],
 "metadata": {
  "colab": {
   "provenance": [],
   "toc_visible": true
  },
  "kernelspec": {
   "display_name": "Python 3 (ipykernel)",
   "language": "python",
   "name": "python3"
  },
  "language_info": {
   "codemirror_mode": {
    "name": "ipython",
    "version": 3
   },
   "file_extension": ".py",
   "mimetype": "text/x-python",
   "name": "python",
   "nbconvert_exporter": "python",
   "pygments_lexer": "ipython3",
   "version": "3.9.13"
  }
 },
 "nbformat": 4,
 "nbformat_minor": 1
}
